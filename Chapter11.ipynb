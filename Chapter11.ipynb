{
 "metadata": {
  "name": "Chapter11"
 },
 "nbformat": 3,
 "worksheets": [
  {
   "cells": [
    {
     "cell_type": "code",
     "collapsed": true,
     "input": [
      "#Exercise 11.2",
      "",
      "def histogram(s):",
      "    d = dict()",
      "    for c in s:",
      "        d[c] = 1 + d.get(c,0)",
      "    return d"
     ],
     "language": "python",
     "outputs": [],
     "prompt_number": 5
    },
    {
     "cell_type": "code",
     "collapsed": false,
     "input": [
      "histogram('brontosaurus')"
     ],
     "language": "python",
     "outputs": [
      {
       "output_type": "pyout",
       "prompt_number": 6,
       "text": [
        "{'a': 1, 'b': 1, 'n': 1, 'o': 2, 'r': 2, 's': 2, 't': 1, 'u': 2}"
       ]
      }
     ],
     "prompt_number": 6
    },
    {
     "cell_type": "code",
     "collapsed": true,
     "input": [
      "#Exercise 11.3",
      "",
      "def print_hist(h):",
      "    k = h.keys()",
      "    ks = sort(k)",
      "    for c in ks:",
      "        print c, h[c]"
     ],
     "language": "python",
     "outputs": [],
     "prompt_number": 47
    },
    {
     "cell_type": "code",
     "collapsed": false,
     "input": [
      "h = histogram('parrot')",
      "print_hist(h)"
     ],
     "language": "python",
     "outputs": [
      {
       "output_type": "stream",
       "stream": "stdout",
       "text": [
        "a 1",
        "o 1",
        "p 1",
        "r 2",
        "t 1"
       ]
      }
     ],
     "prompt_number": 48
    },
    {
     "cell_type": "code",
     "collapsed": true,
     "input": [
      "#Exercise 11.4",
      "",
      "def reverse_lookup(d, v):",
      "    a = []",
      "    i = 0",
      "    for k in d:",
      "        if d[k] == v:",
      "            a.append(k)",
      "    print a"
     ],
     "language": "python",
     "outputs": [],
     "prompt_number": 63
    },
    {
     "cell_type": "code",
     "collapsed": false,
     "input": [
      "reverse_lookup(h, 2)"
     ],
     "language": "python",
     "outputs": [
      {
       "output_type": "stream",
       "stream": "stdout",
       "text": [
        "['r']"
       ]
      }
     ],
     "prompt_number": 64
    },
    {
     "cell_type": "code",
     "collapsed": false,
     "input": [
      "h2 = histogram('banana')",
      "reverse_lookup(h2,3)",
      "reverse_lookup(h2,2)"
     ],
     "language": "python",
     "outputs": [
      {
       "output_type": "stream",
       "stream": "stdout",
       "text": [
        "['a']",
        "['n']"
       ]
      }
     ],
     "prompt_number": 68
    },
    {
     "cell_type": "code",
     "collapsed": true,
     "input": [
      "#Exercise 11.5",
      "",
      "def invert_dict(d):",
      "    inv = dict()",
      "    for key in d:",
      "        val = d[key]",
      "        inv.setdefault(val, []).append(key)",
      "    return inv"
     ],
     "language": "python",
     "outputs": [],
     "prompt_number": 69
    },
    {
     "cell_type": "code",
     "collapsed": false,
     "input": [
      "invert_dict(h)"
     ],
     "language": "python",
     "outputs": [
      {
       "output_type": "pyout",
       "prompt_number": 70,
       "text": [
        "{1: ['a', 'p', 't', 'o'], 2: ['r']}"
       ]
      }
     ],
     "prompt_number": 70
    },
    {
     "cell_type": "code",
     "collapsed": true,
     "input": [],
     "language": "python",
     "outputs": []
    }
   ]
  }
 ]
}