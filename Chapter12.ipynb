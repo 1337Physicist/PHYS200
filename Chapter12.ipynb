{
 "metadata": {
  "name": "Chapter12"
 },
 "nbformat": 3,
 "worksheets": [
  {
   "cells": [
    {
     "cell_type": "code",
     "collapsed": false,
     "input": [
      "#Exercise 12.1",
      "",
      "def sumall(n):",
      "    i = 0",
      "    for n in n:",
      "        i = i + n",
      "    print i"
     ],
     "language": "python",
     "outputs": [],
     "prompt_number": 9
    },
    {
     "cell_type": "code",
     "collapsed": false,
     "input": [
      "num = (1,2,3,4,5,6)",
      "sumall(num)"
     ],
     "language": "python",
     "outputs": [
      {
       "output_type": "stream",
       "stream": "stdout",
       "text": [
        "21"
       ]
      }
     ],
     "prompt_number": 10
    },
    {
     "cell_type": "code",
     "collapsed": true,
     "input": [
      "#Exercise 12.2",
      "",
      "def sort_by_length(words):",
      "        t = []",
      "        for word in words:",
      "                t.append((len(word),word))",
      "        t.sort(reverse = True)",
      "        res = []",
      "        for length, word in t:",
      "                res.append(word)",
      "        i=0",
      "        final = []",
      "        while i <= len(res)-2:",
      "                if len(res[i]) == len(res[i+1]):",
      "                        w = [res[i], res[i+1]]",
      "                        random.shuffle(w)",
      "                        final = final + w",
      "                        i += 2",
      "                else:",
      "                        final.append(res[i])",
      "                        i += 1",
      "        if i == len(res)-1:",
      "                final.append(res[i])",
      "        return final"
     ],
     "language": "python",
     "outputs": [],
     "prompt_number": 19
    },
    {
     "cell_type": "code",
     "collapsed": false,
     "input": [
      "words = ('hello', 'virginia', 'mongoose', 'mayonaise', 'cotton', 'hysteria', 'uprising', 'wallet', 'peresistance', 'apple')",
      "sort_by_length(words)"
     ],
     "language": "python",
     "outputs": [
      {
       "output_type": "pyout",
       "prompt_number": 20,
       "text": [
        "['peresistance',",
        " 'mayonaise',",
        " 'uprising',",
        " 'virginia',",
        " 'mongoose',",
        " 'hysteria',",
        " 'cotton',",
        " 'wallet',",
        " 'hello',",
        " 'apple']"
       ]
      }
     ],
     "prompt_number": 20
    },
    {
     "cell_type": "code",
     "collapsed": false,
     "input": [
      "#Exercise 12.3",
      "",
      "def most_frequent(s):",
      "        d = dict()",
      "        inv = dict()",
      "        for c in s:",
      "            letter = c.lower()           ",
      "            d[letter] = d.get(letter, 0) + 1",
      "            ",
      "        for letter, f in d.items():",
      "                inv.setdefault(f, []).append(letter)",
      "                ",
      "        for f in sorted(inv, reverse=True):",
      "                p = float(f)/len(s)",
      "                print('{:.2%}:'.format(p), ', '.join(inv[f]))",
      "        "
     ],
     "language": "python",
     "outputs": [],
     "prompt_number": 109
    },
    {
     "cell_type": "code",
     "collapsed": false,
     "input": [
      "most_frequent('hello')"
     ],
     "language": "python",
     "outputs": [
      {
       "output_type": "stream",
       "stream": "stdout",
       "text": [
        "('40.00%:', 'l')",
        "('20.00%:', 'h, e, o')"
       ]
      }
     ],
     "prompt_number": 110
    },
    {
     "cell_type": "code",
     "collapsed": true,
     "input": [],
     "language": "python",
     "outputs": []
    }
   ]
  }
 ]
}