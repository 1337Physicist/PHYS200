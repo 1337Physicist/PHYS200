{
 "metadata": {
  "name": "Chapter13"
 },
 "nbformat": 3,
 "worksheets": [
  {
   "cells": [
    {
     "cell_type": "code",
     "collapsed": false,
     "input": [
      "#Exercise 13.1",
      "",
      "word = 'alsdkj(*#^$(#*$(*@#$faoiewjaoi'",
      "print word.punctuation"
     ],
     "language": "python",
     "outputs": [
      {
       "ename": "AttributeError",
       "evalue": "'str' object has no attribute 'punctuation'",
       "output_type": "pyerr",
       "traceback": [
        "\u001b[0;31m---------------------------------------------------------------------------\u001b[0m\n\u001b[0;31mAttributeError\u001b[0m                            Traceback (most recent call last)",
        "\u001b[0;32m/Users/Tyler/Repository/PHYS200/<ipython-input-1-74cb8acd64b7>\u001b[0m in \u001b[0;36m<module>\u001b[0;34m()\u001b[0m\n\u001b[1;32m      2\u001b[0m \u001b[0;34m\u001b[0m\u001b[0m\n\u001b[1;32m      3\u001b[0m \u001b[0mword\u001b[0m \u001b[0;34m=\u001b[0m \u001b[0;34m'alsdkj(*#^$(#*$(*@#$faoiewjaoi'\u001b[0m\u001b[0;34m\u001b[0m\u001b[0m\n\u001b[0;32m----> 4\u001b[0;31m \u001b[0;32mprint\u001b[0m \u001b[0mword\u001b[0m\u001b[0;34m.\u001b[0m\u001b[0mpunctuation\u001b[0m\u001b[0;34m\u001b[0m\u001b[0m\n\u001b[0m",
        "\u001b[0;31mAttributeError\u001b[0m: 'str' object has no attribute 'punctuation'"
       ]
      }
     ],
     "prompt_number": 1
    },
    {
     "cell_type": "code",
     "collapsed": false,
     "input": [
      "#I could not get the string module to work. ",
      "#I tried here and on my computer by using \"fin = open('...')\" but the string module still didn't work."
     ],
     "language": "python",
     "outputs": [],
     "prompt_number": 5
    },
    {
     "cell_type": "code",
     "collapsed": true,
     "input": [
      "#Exercise 13.2",
      "#Exercise 13.3",
      "#Exercise 13.4",
      "",
      "#Same issue with the string module. Not sure what to do since I wouldn't be able to test the program."
     ],
     "language": "python",
     "outputs": [],
     "prompt_number": 6
    },
    {
     "cell_type": "code",
     "collapsed": true,
     "input": [
      "#Exercise 13.9",
      "",
      "#Couldn't figure it out. Spent too much time on it and decided to move on."
     ],
     "language": "python",
     "outputs": []
    }
   ]
  }
 ]
}