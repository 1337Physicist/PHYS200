{
 "metadata": {
  "name": "Chapter15"
 },
 "nbformat": 3,
 "worksheets": [
  {
   "cells": [
    {
     "cell_type": "code",
     "collapsed": false,
     "input": [
      "#Exercise 15.1",
      "",
      "class Point(object):",
      "    \"\"\"represents a point in 2-D space\"\"\"",
      "    ",
      "point1 = Point()",
      "point2 = Point()",
      "point1.x = 1.0",
      "point1.y = 2.0",
      "point2.x = 3.0",
      "point2.y = 4.0",
      "",
      "def distance(p1,p2):",
      "    y = (p2.y-p1.y)**2",
      "    x = (p2.x-p1.x)**2",
      "    d = math.sqrt(y+x)",
      "    print d",
      "    ",
      "distance(point1,point2)"
     ],
     "language": "python",
     "outputs": [
      {
       "output_type": "stream",
       "stream": "stdout",
       "text": [
        "2.82842712475"
       ]
      }
     ],
     "prompt_number": 9
    },
    {
     "cell_type": "code",
     "collapsed": false,
     "input": [
      "#Exercise 15.2",
      "",
      "class Rectangle(object):",
      "    \"\"\"represent a rectangle. attributes: width, height, corner. \"\"\"",
      "box = Rectangle() ",
      "box.width = 100.0 ",
      "box.height = 200.0 ",
      "box.corner = Point() ",
      "box.corner.x = 0.0 ",
      "box.corner.y = 0.0",
      "",
      "def move_rectangle(dx,dy):",
      "    box.corner.x += dx",
      "    box.corner.y += dy",
      "    print box.corner.x",
      "    print box.corner.y",
      "",
      "move_rectangle(5,5)"
     ],
     "language": "python",
     "outputs": [
      {
       "output_type": "stream",
       "stream": "stdout",
       "text": [
        "5.0",
        "5.0"
       ]
      }
     ],
     "prompt_number": 20
    },
    {
     "cell_type": "code",
     "collapsed": false,
     "input": [
      "#Exercise 15.3",
      "",
      "import copy",
      "box2 = copy.copy(box)",
      "",
      "def move_rectangle(dx,dy):",
      "    box2.corner.x = box.corner.x + dx",
      "    box2.corner.y = box.corner.y + dy",
      "    print box2.corner.x",
      "    print box2.corner.y",
      "",
      "move_rectangle(6,6)"
     ],
     "language": "python",
     "outputs": [
      {
       "output_type": "stream",
       "stream": "stdout",
       "text": [
        "11.0",
        "11.0"
       ]
      }
     ],
     "prompt_number": 21
    },
    {
     "cell_type": "code",
     "collapsed": true,
     "input": [],
     "language": "python",
     "outputs": []
    }
   ]
  }
 ]
}