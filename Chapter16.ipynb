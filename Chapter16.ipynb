{
 "metadata": {
  "name": "Chapter16"
 },
 "nbformat": 3,
 "worksheets": [
  {
   "cells": [
    {
     "cell_type": "code",
     "collapsed": true,
     "input": [
      "#Exercise 16.1",
      "",
      "class Time(object):",
      "    \"\"\"represents the time of day. attributes: hour, minute, second\"\"\"",
      "",
      "time = Time()",
      "time.hour = 11",
      "time.minute = 12",
      "time.second = 13",
      "",
      "def print_time(t):",
      "    print '(%2d:%2d:%2d)' % (t.hour, t.minute, t.second)"
     ],
     "language": "python",
     "outputs": [],
     "prompt_number": 77
    },
    {
     "cell_type": "code",
     "collapsed": false,
     "input": [
      "print_time(time)"
     ],
     "language": "python",
     "outputs": [
      {
       "output_type": "stream",
       "stream": "stdout",
       "text": [
        "(11:12:13)"
       ]
      }
     ],
     "prompt_number": 78
    },
    {
     "cell_type": "code",
     "collapsed": true,
     "input": [
      "#Exercise 16.2",
      "",
      "time2 = Time()",
      "time2.hour = 12",
      "time2.minute = 13",
      "time2.second = 14",
      "",
      "def is_after(t1,t2):",
      "    return(t2.hour, t2.minute, t1.second) > (t1.hour, t1.minute, t1.second)"
     ],
     "language": "python",
     "outputs": [],
     "prompt_number": 70
    },
    {
     "cell_type": "code",
     "collapsed": false,
     "input": [
      "is_after(time,time2)"
     ],
     "language": "python",
     "outputs": [
      {
       "output_type": "pyout",
       "prompt_number": 71,
       "text": [
        "True"
       ]
      }
     ],
     "prompt_number": 71
    },
    {
     "cell_type": "code",
     "collapsed": false,
     "input": [
      "#Exercise 16.3",
      "",
      "def increment(time, seconds):",
      "    s = seconds/60",
      "    time.second += seconds - 60.0*s",
      "    time.minute += s",
      "    m = time.minute/60",
      "    time.minute -= m*60",
      "    time.hour += m",
      "    print_time(time)"
     ],
     "language": "python",
     "outputs": [],
     "prompt_number": 72
    },
    {
     "cell_type": "code",
     "collapsed": false,
     "input": [
      "increment(time2,80)"
     ],
     "language": "python",
     "outputs": [
      {
       "output_type": "stream",
       "stream": "stdout",
       "text": [
        "(12:14:34)"
       ]
      }
     ],
     "prompt_number": 73
    },
    {
     "cell_type": "code",
     "collapsed": false,
     "input": [
      "#Exercise 16.4",
      "import copy",
      "def increment(time, seconds):",
      "    new_time = copy.copy(time)",
      "    s = seconds/60",
      "    new_time.second += seconds - 60.0*s",
      "    new_time.minute += s",
      "    m = new_time.minute/60",
      "    new_time.minute -= m*60",
      "    new_time.hour += m",
      "    print_time(new_time)",
      "    return new_time"
     ],
     "language": "python",
     "outputs": [],
     "prompt_number": 74
    },
    {
     "cell_type": "code",
     "collapsed": false,
     "input": [
      "increment(time, 80)"
     ],
     "language": "python",
     "outputs": [
      {
       "output_type": "stream",
       "stream": "stdout",
       "text": [
        "(11:13:33)"
       ]
      },
      {
       "output_type": "pyout",
       "prompt_number": 75,
       "text": [
        "<__main__.Time at 0x970c890>"
       ]
      }
     ],
     "prompt_number": 75
    },
    {
     "cell_type": "code",
     "collapsed": true,
     "input": [
      "#I am not suse if this is what it is asking for."
     ],
     "language": "python",
     "outputs": [],
     "prompt_number": 76
    },
    {
     "cell_type": "code",
     "collapsed": false,
     "input": [
      "#Exercise 16.5",
      "",
      "def time_to_int(time):",
      "    minutes = time.hour * 60 + time.minute ",
      "    seconds = minutes * 60 + time.second ",
      "    return seconds",
      "",
      "def int_to_time(seconds): ",
      "    time = Time()",
      "    minutes, time.second = divmod(seconds, 60) ",
      "    time.hour, time.minute = divmod(minutes, 60) ",
      "    return time",
      "",
      "def increment(time,seconds):",
      "    s = time_to_int(time)",
      "    print_time(int_to_time(s + seconds))",
      "    return int_to_time(s + seconds)"
     ],
     "language": "python",
     "outputs": [],
     "prompt_number": 86
    },
    {
     "cell_type": "code",
     "collapsed": false,
     "input": [
      "increment(time,80)"
     ],
     "language": "python",
     "outputs": [
      {
       "output_type": "stream",
       "stream": "stdout",
       "text": [
        "(11:13:33)"
       ]
      },
      {
       "output_type": "pyout",
       "prompt_number": 87,
       "text": [
        "<__main__.Time at 0x970ce90>"
       ]
      }
     ],
     "prompt_number": 87
    },
    {
     "cell_type": "code",
     "collapsed": true,
     "input": [],
     "language": "python",
     "outputs": []
    }
   ]
  }
 ]
}