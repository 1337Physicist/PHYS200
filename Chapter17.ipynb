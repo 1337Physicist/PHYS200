{
 "metadata": {
  "name": "Chapter17"
 },
 "nbformat": 3,
 "worksheets": [
  {
   "cells": [
    {
     "cell_type": "code",
     "collapsed": true,
     "input": [
      "#Exercise 17.1",
      "",
      "class Time(object):",
      "    def time_to_int(time):",
      "        minutes = time.hour * 60 + time.minute ",
      "        seconds = minutes * 60 + time.second ",
      "        return seconds"
     ],
     "language": "python",
     "outputs": [],
     "prompt_number": 1
    },
    {
     "cell_type": "code",
     "collapsed": true,
     "input": [
      "start = Time()",
      "start.hour = 9",
      "start.minute = 45",
      "start.second = 00"
     ],
     "language": "python",
     "outputs": [],
     "prompt_number": 2
    },
    {
     "cell_type": "code",
     "collapsed": false,
     "input": [
      "Time.time_to_int(start)"
     ],
     "language": "python",
     "outputs": [
      {
       "output_type": "pyout",
       "prompt_number": 4,
       "text": [
        "35100"
       ]
      }
     ],
     "prompt_number": 4
    },
    {
     "cell_type": "code",
     "collapsed": false,
     "input": [
      "#Exercise 17.2",
      "",
      "class Point(object):",
      "    def __init__(self,x,y):",
      "        self.x = x",
      "        self.y = y"
     ],
     "language": "python",
     "outputs": [],
     "prompt_number": 47
    },
    {
     "cell_type": "code",
     "collapsed": false,
     "input": [
      "point = Point(5,5)"
     ],
     "language": "python",
     "outputs": [],
     "prompt_number": 48
    },
    {
     "cell_type": "code",
     "collapsed": false,
     "input": [
      "print point.x",
      "print point.y"
     ],
     "language": "python",
     "outputs": [
      {
       "output_type": "stream",
       "stream": "stdout",
       "text": [
        "5",
        "5"
       ]
      }
     ],
     "prompt_number": 49
    },
    {
     "cell_type": "code",
     "collapsed": true,
     "input": [
      "#Exercise 17.3",
      "",
      "class Point(object):",
      "    def __init__(self,x,y):",
      "        self.x = x",
      "        self.y = y",
      "    def __str__(self):",
      "        return '%g, %g' % (point.x, point.y)"
     ],
     "language": "python",
     "outputs": [],
     "prompt_number": 54
    },
    {
     "cell_type": "code",
     "collapsed": false,
     "input": [
      "point = Point(6,6)",
      "print point"
     ],
     "language": "python",
     "outputs": [
      {
       "output_type": "stream",
       "stream": "stdout",
       "text": [
        "6, 6"
       ]
      }
     ],
     "prompt_number": 55
    },
    {
     "cell_type": "code",
     "collapsed": true,
     "input": [
      "#Exercise 17.4",
      "",
      "class Point(object):",
      "    def __init__(self,x,y):",
      "        self.x = x",
      "        self.y = y",
      "    def __str__(self):",
      "        return '%g, %g' % (point.x, point.y)",
      "    def __add__(self,other):",
      "        self.x = self.x + other.x",
      "        self.y = self.y + other.y",
      "        return self.x,self.y"
     ],
     "language": "python",
     "outputs": [],
     "prompt_number": 62
    },
    {
     "cell_type": "code",
     "collapsed": false,
     "input": [
      "start = Point(4,5)",
      "change = Point(5,5)",
      "print start + change"
     ],
     "language": "python",
     "outputs": [
      {
       "output_type": "stream",
       "stream": "stdout",
       "text": [
        "(9, 10)"
       ]
      }
     ],
     "prompt_number": 63
    },
    {
     "cell_type": "code",
     "collapsed": true,
     "input": [
      "#It worked! I can see how objects and methods can be useful. I like using them."
     ],
     "language": "python",
     "outputs": [],
     "prompt_number": 64
    },
    {
     "cell_type": "code",
     "collapsed": true,
     "input": [],
     "language": "python",
     "outputs": []
    }
   ]
  }
 ]
}