{
 "metadata": {
  "name": "Chapter18"
 },
 "nbformat": 3,
 "worksheets": [
  {
   "cells": [
    {
     "cell_type": "code",
     "collapsed": true,
     "input": [
      "#Exercise 18.1",
      "",
      "class Time(object):",
      "    def __init__(self, hour=0, minute=0, second=0): ",
      "        self.hour = hour",
      "        self.minute = minute",
      "        self.second = second",
      "    def __cmp__(self, other):",
      "        t1 = (self.hour, self.minute, self.second)",
      "        t2 = (other.hour, other.minute, other.second)",
      "        return cmp(t1, t2)"
     ],
     "language": "python",
     "outputs": [],
     "prompt_number": 91
    },
    {
     "cell_type": "code",
     "collapsed": false,
     "input": [
      "time1 = Time(9,8,7)",
      "time2 = Time(8,7,6)",
      "",
      "Time.__cmp__(time1,time2)"
     ],
     "language": "python",
     "outputs": [
      {
       "output_type": "pyout",
       "prompt_number": 68,
       "text": [
        "1"
       ]
      }
     ],
     "prompt_number": 68
    },
    {
     "cell_type": "code",
     "collapsed": false,
     "input": [
      "Time.__cmp__(time2,time1)"
     ],
     "language": "python",
     "outputs": [
      {
       "output_type": "pyout",
       "prompt_number": 69,
       "text": [
        "-1"
       ]
      }
     ],
     "prompt_number": 69
    },
    {
     "cell_type": "code",
     "collapsed": true,
     "input": [
      "#Exercise 18.2",
      "",
      "class Card(object):",
      "    def __init__(self, suit=0, rank=2): ",
      "        self.suit = suit",
      "        self.rank = rank",
      "    suit_names = ['Clubs', 'Diamonds', 'Hearts', 'Spades'] ",
      "    rank_names = [None, 'Ace', '2', '3', '4', '5', '6', '7','8', '9', '10', 'Jack', 'Queen', 'King']",
      "   ",
      "    def __str__(self):",
      "        return '%s of %s' % (Card.rank_names[self.rank],Card.suit_names[self.suit])",
      "",
      "class Deck(object):",
      "    def __init__(self): ",
      "        self.cards = []",
      "        for suit in range(4):",
      "            for rank in range(1, 14):",
      "                card = Card(suit, rank) ",
      "                self.cards.append(card)",
      "    def __str__(self): ",
      "        res=[]",
      "        for card in self.cards: ",
      "            res.append(str(card))",
      "        return '\\n'.join(res)",
      "    def __cmp__(self, other):",
      "        t1 = self.suit, self.rank ",
      "        t2 = other.suit, other.rank ",
      "        return cmp(t1, t2)",
      "    def sort(self):",
      "        self.cards.sort()"
     ],
     "language": "python",
     "outputs": [],
     "prompt_number": 92
    },
    {
     "cell_type": "code",
     "collapsed": false,
     "input": [
      "deck = Deck()",
      "Deck.sort(deck)",
      "print deck"
     ],
     "language": "python",
     "outputs": [
      {
       "output_type": "stream",
       "stream": "stdout",
       "text": [
        "7 of Hearts",
        "8 of Hearts",
        "9 of Hearts",
        "10 of Hearts",
        "Jack of Hearts",
        "Queen of Hearts",
        "King of Hearts",
        "Ace of Spades",
        "2 of Spades",
        "3 of Spades",
        "4 of Spades",
        "5 of Spades",
        "6 of Spades",
        "7 of Spades",
        "8 of Spades",
        "9 of Spades",
        "10 of Spades",
        "King of Spades",
        "Jack of Spades",
        "Queen of Spades",
        "Jack of Diamonds",
        "5 of Hearts",
        "6 of Hearts",
        "Ace of Clubs",
        "2 of Clubs",
        "3 of Clubs",
        "4 of Clubs",
        "5 of Clubs",
        "6 of Clubs",
        "7 of Clubs",
        "8 of Clubs",
        "9 of Clubs",
        "10 of Clubs",
        "Jack of Clubs",
        "Queen of Clubs",
        "King of Clubs",
        "Ace of Diamonds",
        "2 of Diamonds",
        "3 of Diamonds",
        "4 of Diamonds",
        "5 of Diamonds",
        "6 of Diamonds",
        "7 of Diamonds",
        "8 of Diamonds",
        "9 of Diamonds",
        "10 of Diamonds",
        "Queen of Diamonds",
        "King of Diamonds",
        "Ace of Hearts",
        "2 of Hearts",
        "3 of Hearts",
        "4 of Hearts"
       ]
      }
     ],
     "prompt_number": 88
    },
    {
     "cell_type": "code",
     "collapsed": false,
     "input": [
      "#The cards are in order but start at a random spot for some reason."
     ],
     "language": "python",
     "outputs": [],
     "prompt_number": 89
    },
    {
     "cell_type": "code",
     "collapsed": false,
     "input": [
      "#Exercise 18.3",
      "",
      "class Hand(Deck):",
      "    def __init__(self, label=''):",
      "        self.cards = []",
      "        self.label = label",
      "        ",
      "class Deck(object):",
      "    def __init__(self): ",
      "        self.cards = []",
      "        for suit in range(4):",
      "            for rank in range(1, 14):",
      "                card = Card(suit, rank) ",
      "                self.cards.append(card)",
      "    def __str__(self): ",
      "        res=[]",
      "        for card in self.cards: ",
      "            res.append(str(card))",
      "        return '\\n'.join(res)",
      "    def __cmp__(self, other):",
      "        t1 = self.suit, self.rank ",
      "        t2 = other.suit, other.rank ",
      "        return cmp(t1, t2)",
      "    def add_card(self, card):",
      "        self.cards.append(card)",
      "    def sort(self):",
      "        self.cards.sort()",
      "    def shuffle(self):",
      "        random.shuffle(self.cards)",
      "    def pop_card(self, i=-1):",
      "        return self.cards.pop(i)",
      "    def move_cards(self, hand, num):",
      "        for i in range(num):",
      "            hand.add_card(self.pop_card())",
      "    def deal_hands(self,n,c):",
      "        deck.shuffle()",
      "        for i in range(n):",
      "            hand = Hand()",
      "            deck.move_cards(hand,c)",
      "            print hand,'\\n'",
      "        "
     ],
     "language": "python",
     "outputs": [],
     "prompt_number": 155
    },
    {
     "cell_type": "code",
     "collapsed": false,
     "input": [
      "deck = Deck()",
      "hand = Hand()",
      "Deck.deal_hands(deck,2,5)"
     ],
     "language": "python",
     "outputs": [
      {
       "output_type": "stream",
       "stream": "stdout",
       "text": [
        "Ace of Hearts",
        "7 of Hearts",
        "King of Diamonds",
        "9 of Hearts",
        "2 of Hearts ",
        "",
        "4 of Hearts",
        "3 of Hearts",
        "10 of Spades",
        "5 of Hearts",
        "Ace of Clubs ",
        ""
       ]
      }
     ],
     "prompt_number": 156
    },
    {
     "cell_type": "code",
     "collapsed": true,
     "input": [
      "#Finally! At 2:40 AM, it feels good to finally have finished this exercise!"
     ],
     "language": "python",
     "outputs": [],
     "prompt_number": 157
    },
    {
     "cell_type": "code",
     "collapsed": true,
     "input": [],
     "language": "python",
     "outputs": []
    }
   ]
  }
 ]
}