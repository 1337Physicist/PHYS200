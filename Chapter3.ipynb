{
 "metadata": {
  "name": "Chapter3"
 },
 "nbformat": 3,
 "worksheets": [
  {
   "cells": [
    {
     "cell_type": "code",
     "collapsed": false,
     "input": [
      "len('allen')"
     ],
     "language": "python",
     "outputs": [
      {
       "output_type": "pyout",
       "prompt_number": 1,
       "text": [
        "5"
       ]
      }
     ],
     "prompt_number": 1
    },
    {
     "cell_type": "code",
     "collapsed": false,
     "input": [
      "a = \" \"",
      "def right_justify(s):",
      "    print a * (70 - len(s) - 1), s",
      "right_justify('allen')"
     ],
     "language": "python",
     "outputs": [
      {
       "output_type": "stream",
       "stream": "stdout",
       "text": [
        "                                                                 allen"
       ]
      }
     ],
     "prompt_number": 10
    },
    {
     "cell_type": "code",
     "collapsed": false,
     "input": [
      "def do_twice(f,v):",
      "    f(v)",
      "    f(v)",
      "",
      "def print_twice(v):",
      "    print v",
      "    print v",
      "    ",
      "do_twice(print_twice, 'spam')",
      "",
      "print",
      "",
      "def do_four(f,v):",
      "    do_twice(f,v)",
      "    do_twice(f,v)",
      "    ",
      "do_four(print_twice, 'spam')",
      "",
      "print"
     ],
     "language": "python",
     "outputs": [
      {
       "output_type": "stream",
       "stream": "stdout",
       "text": [
        "spam",
        "spam",
        "spam",
        "spam",
        "",
        "spam",
        "spam",
        "spam",
        "spam",
        "spam",
        "spam",
        "spam",
        "spam"
       ]
      }
     ],
     "prompt_number": 13
    },
    {
     "cell_type": "code",
     "collapsed": false,
     "input": [
      "def do_twice(f):",
      "    f()",
      "    f()",
      "",
      "def do_four(f):",
      "    do_twice(f)",
      "    do_twice(f)",
      "",
      "def print_horizontal():",
      "    print '+ - - - -',",
      "",
      "def print_vertical():",
      "    print '|        ',",
      "",
      "def print_horizontals():",
      "    do_twice(print_horizontal)",
      "    print '+'",
      "",
      "def print_verticals():",
      "    do_twice(print_vertical)",
      "    print '|'",
      "",
      "def print_row():",
      "    print_horizontals()",
      "    do_four(print_verticals)",
      "",
      "def print_graph():",
      "    do_twice(print_row)",
      "    print_horizontals()",
      "",
      "print_graph()"
     ],
     "language": "python",
     "outputs": [
      {
       "output_type": "stream",
       "stream": "stdout",
       "text": [
        "+ - - - - + - - - - +",
        "|         |         |",
        "|         |         |",
        "|         |         |",
        "|         |         |",
        "+ - - - - + - - - - +",
        "|         |         |",
        "|         |         |",
        "|         |         |",
        "|         |         |",
        "+ - - - - + - - - - +"
       ]
      }
     ],
     "prompt_number": 29
    },
    {
     "cell_type": "code",
     "collapsed": false,
     "input": [
      "def do_twice(f):",
      "    f()",
      "    f()",
      "",
      "def do_four(f):",
      "    do_twice(f)",
      "    do_twice(f)",
      "",
      "def print_horizontal():",
      "    print '+ - -',",
      "",
      "def print_vertical():",
      "    print '|    ',",
      "",
      "def print_horizontals():",
      "    do_four(print_horizontal)",
      "    print '+'",
      "",
      "def print_verticals():",
      "    do_four(print_vertical)",
      "    print '|'",
      "",
      "def print_row():",
      "    print_horizontals()",
      "    do_twice(print_verticals)",
      "",
      "def print_graph():",
      "    do_four(print_row)",
      "    print_horizontals()",
      "",
      "print_graph()"
     ],
     "language": "python",
     "outputs": [
      {
       "output_type": "stream",
       "stream": "stdout",
       "text": [
        "+ - - + - - + - - + - - +",
        "|     |     |     |     |",
        "|     |     |     |     |",
        "+ - - + - - + - - + - - +",
        "|     |     |     |     |",
        "|     |     |     |     |",
        "+ - - + - - + - - + - - +",
        "|     |     |     |     |",
        "|     |     |     |     |",
        "+ - - + - - + - - + - - +",
        "|     |     |     |     |",
        "|     |     |     |     |",
        "+ - - + - - + - - + - - +"
       ]
      }
     ],
     "prompt_number": 35
    },
    {
     "cell_type": "code",
     "collapsed": false,
     "input": [
      "repeat_lyrics()",
      "def print_lyrics():",
      "    print \"I'm a lumberjack, and I'm okay.\" ",
      "    print \"I sleep all night and I work all day.\"",
      "def repeat_lyrics(): ",
      "    print_lyrics() ",
      "    print_lyrics()"
     ],
     "language": "python",
     "outputs": [
      {
       "ename": "NameError",
       "evalue": "name 'repeat_lyrics' is not defined",
       "output_type": "pyerr",
       "traceback": [
        "\u001b[0;31m---------------------------------------------------------------------------\u001b[0m\n\u001b[0;31mNameError\u001b[0m                                 Traceback (most recent call last)",
        "\u001b[0;32m/Users/Tyler/Repository/PHYS200/<ipython-input-8-b059bc981d29>\u001b[0m in \u001b[0;36m<module>\u001b[0;34m()\u001b[0m\n\u001b[0;32m----> 1\u001b[0;31m \u001b[0mrepeat_lyrics\u001b[0m\u001b[0;34m(\u001b[0m\u001b[0;34m)\u001b[0m\u001b[0;34m\u001b[0m\u001b[0m\n\u001b[0m\u001b[1;32m      2\u001b[0m \u001b[0;32mdef\u001b[0m \u001b[0mprint_lyrics\u001b[0m\u001b[0;34m(\u001b[0m\u001b[0;34m)\u001b[0m\u001b[0;34m:\u001b[0m\u001b[0;34m\u001b[0m\u001b[0m\n\u001b[1;32m      3\u001b[0m     \u001b[0;32mprint\u001b[0m \u001b[0;34m\"I'm a lumberjack, and I'm okay.\"\u001b[0m\u001b[0;34m\u001b[0m\u001b[0m\n\u001b[1;32m      4\u001b[0m     \u001b[0;32mprint\u001b[0m \u001b[0;34m\"I sleep all night and I work all day.\"\u001b[0m\u001b[0;34m\u001b[0m\u001b[0m\n\u001b[1;32m      5\u001b[0m \u001b[0;32mdef\u001b[0m \u001b[0mrepeat_lyrics\u001b[0m\u001b[0;34m(\u001b[0m\u001b[0;34m)\u001b[0m\u001b[0;34m:\u001b[0m\u001b[0;34m\u001b[0m\u001b[0m\n",
        "\u001b[0;31mNameError\u001b[0m: name 'repeat_lyrics' is not defined"
       ]
      }
     ],
     "prompt_number": 8
    },
    {
     "cell_type": "code",
     "collapsed": false,
     "input": [
      "def repeat_lyrics(): ",
      "    print_lyrics() ",
      "    print_lyrics()",
      "repeat_lyrics()",
      "def print_lyrics():",
      "    print \"I'm a lumberjack, and I'm okay.\" ",
      "    print \"I sleep all night and I work all day.\""
     ],
     "language": "python",
     "outputs": [
      {
       "ename": "NameError",
       "evalue": "global name 'print_lyrics' is not defined",
       "output_type": "pyerr",
       "traceback": [
        "\u001b[0;31m---------------------------------------------------------------------------\u001b[0m\n\u001b[0;31mNameError\u001b[0m                                 Traceback (most recent call last)",
        "\u001b[0;32m/Users/Tyler/Repository/PHYS200/<ipython-input-9-75fe320ec4d7>\u001b[0m in \u001b[0;36m<module>\u001b[0;34m()\u001b[0m\n\u001b[1;32m      2\u001b[0m     \u001b[0mprint_lyrics\u001b[0m\u001b[0;34m(\u001b[0m\u001b[0;34m)\u001b[0m\u001b[0;34m\u001b[0m\u001b[0m\n\u001b[1;32m      3\u001b[0m     \u001b[0mprint_lyrics\u001b[0m\u001b[0;34m(\u001b[0m\u001b[0;34m)\u001b[0m\u001b[0;34m\u001b[0m\u001b[0m\n\u001b[0;32m----> 4\u001b[0;31m \u001b[0mrepeat_lyrics\u001b[0m\u001b[0;34m(\u001b[0m\u001b[0;34m)\u001b[0m\u001b[0;34m\u001b[0m\u001b[0m\n\u001b[0m\u001b[1;32m      5\u001b[0m \u001b[0;32mdef\u001b[0m \u001b[0mprint_lyrics\u001b[0m\u001b[0;34m(\u001b[0m\u001b[0;34m)\u001b[0m\u001b[0;34m:\u001b[0m\u001b[0;34m\u001b[0m\u001b[0m\n\u001b[1;32m      6\u001b[0m     \u001b[0;32mprint\u001b[0m \u001b[0;34m\"I'm a lumberjack, and I'm okay.\"\u001b[0m\u001b[0;34m\u001b[0m\u001b[0m\n",
        "\u001b[0;32m/Users/Tyler/Repository/PHYS200/<ipython-input-9-75fe320ec4d7>\u001b[0m in \u001b[0;36mrepeat_lyrics\u001b[0;34m()\u001b[0m\n\u001b[1;32m      1\u001b[0m \u001b[0;32mdef\u001b[0m \u001b[0mrepeat_lyrics\u001b[0m\u001b[0;34m(\u001b[0m\u001b[0;34m)\u001b[0m\u001b[0;34m:\u001b[0m\u001b[0;34m\u001b[0m\u001b[0m\n\u001b[0;32m----> 2\u001b[0;31m     \u001b[0mprint_lyrics\u001b[0m\u001b[0;34m(\u001b[0m\u001b[0;34m)\u001b[0m\u001b[0;34m\u001b[0m\u001b[0m\n\u001b[0m\u001b[1;32m      3\u001b[0m     \u001b[0mprint_lyrics\u001b[0m\u001b[0;34m(\u001b[0m\u001b[0;34m)\u001b[0m\u001b[0;34m\u001b[0m\u001b[0m\n\u001b[1;32m      4\u001b[0m \u001b[0mrepeat_lyrics\u001b[0m\u001b[0;34m(\u001b[0m\u001b[0;34m)\u001b[0m\u001b[0;34m\u001b[0m\u001b[0m\n\u001b[1;32m      5\u001b[0m \u001b[0;32mdef\u001b[0m \u001b[0mprint_lyrics\u001b[0m\u001b[0;34m(\u001b[0m\u001b[0;34m)\u001b[0m\u001b[0;34m:\u001b[0m\u001b[0;34m\u001b[0m\u001b[0m\n",
        "\u001b[0;31mNameError\u001b[0m: global name 'print_lyrics' is not defined"
       ]
      }
     ],
     "prompt_number": 9
    },
    {
     "cell_type": "code",
     "collapsed": true,
     "input": [],
     "language": "python",
     "outputs": []
    }
   ]
  }
 ]
}