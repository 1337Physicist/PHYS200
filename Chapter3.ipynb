{
 "metadata": {
  "name": "Chapter3"
 },
 "nbformat": 3,
 "worksheets": [
  {
   "cells": [
    {
     "cell_type": "code",
     "collapsed": false,
     "input": [
      "len('allen')"
     ],
     "language": "python",
     "outputs": [
      {
       "output_type": "pyout",
       "prompt_number": 1,
       "text": [
        "5"
       ]
      }
     ],
     "prompt_number": 1
    },
    {
     "cell_type": "code",
     "collapsed": false,
     "input": [
      "a = \" \"",
      "def right_justify(s):",
      "    print a * (70 - len(s) - 1), s",
      ">>> right_justify('allen')"
     ],
     "language": "python",
     "outputs": [
      {
       "output_type": "stream",
       "stream": "stdout",
       "text": [
        "                                                                 allen"
       ]
      }
     ],
     "prompt_number": 10
    },
    {
     "cell_type": "code",
     "collapsed": false,
     "input": [
      "def do_twice(f,v):",
      "    f(v)",
      "    f(v)",
      "",
      "def print_twice(v):",
      "    print v",
      "    print v",
      "    ",
      "do_twice(print_twice, 'spam')",
      "",
      "print",
      "",
      "def do_four(f,v):",
      "    do_twice(f,v)",
      "    do_twice(f,v)",
      "    ",
      "do_four(print_twice, 'spam')",
      "",
      "print"
     ],
     "language": "python",
     "outputs": [
      {
       "output_type": "stream",
       "stream": "stdout",
       "text": [
        "spam",
        "spam",
        "spam",
        "spam",
        "",
        "spam",
        "spam",
        "spam",
        "spam",
        "spam",
        "spam",
        "spam",
        "spam",
        ""
       ]
      }
     ],
     "prompt_number": 13
    },
    {
     "cell_type": "code",
     "collapsed": false,
     "input": [
      "def do_twice(f):",
      "    f()",
      "    f()",
      "",
      "def do_four(f):",
      "    do_twice(f)",
      "    do_twice(f)",
      "",
      "def print_horizontal():",
      "    print '+ - - - -',",
      "",
      "def print_vertical():",
      "    print '|        ',",
      "",
      "def print_horizontals():",
      "    do_twice(print_horizontal)",
      "    print '+'",
      "",
      "def print_verticals():",
      "    do_twice(print_vertical)",
      "    print '|'",
      "",
      "def print_row():",
      "    print_horizontals()",
      "    do_four(print_verticals)",
      "",
      "def print_graph():",
      "    do_twice(print_row)",
      "    print_horizontals()",
      "",
      "print_graph()"
     ],
     "language": "python",
     "outputs": [
      {
       "output_type": "stream",
       "stream": "stdout",
       "text": [
        "+ - - - - + - - - - +",
        "|         |         |",
        "|         |         |",
        "|         |         |",
        "|         |         |",
        "+ - - - - + - - - - +",
        "|         |         |",
        "|         |         |",
        "|         |         |",
        "|         |         |",
        "+ - - - - + - - - - +"
       ]
      }
     ],
     "prompt_number": 29
    },
    {
     "cell_type": "code",
     "collapsed": false,
     "input": [
      "def do_twice(f):",
      "    f()",
      "    f()",
      "",
      "def do_four(f):",
      "    do_twice(f)",
      "    do_twice(f)",
      "",
      "def print_horizontal():",
      "    print '+ - -',",
      "",
      "def print_vertical():",
      "    print '|    ',",
      "",
      "def print_horizontals():",
      "    do_four(print_horizontal)",
      "    print '+'",
      "",
      "def print_verticals():",
      "    do_four(print_vertical)",
      "    print '|'",
      "",
      "def print_row():",
      "    print_horizontals()",
      "    do_twice(print_verticals)",
      "",
      "def print_graph():",
      "    do_four(print_row)",
      "    print_horizontals()",
      "",
      "print_graph()"
     ],
     "language": "python",
     "outputs": [
      {
       "output_type": "stream",
       "stream": "stdout",
       "text": [
        "+ - - + - - + - - + - - +",
        "|     |     |     |     |",
        "|     |     |     |     |",
        "+ - - + - - + - - + - - +",
        "|     |     |     |     |",
        "|     |     |     |     |",
        "+ - - + - - + - - + - - +",
        "|     |     |     |     |",
        "|     |     |     |     |",
        "+ - - + - - + - - + - - +",
        "|     |     |     |     |",
        "|     |     |     |     |",
        "+ - - + - - + - - + - - +"
       ]
      }
     ],
     "prompt_number": 35
    },
    {
     "cell_type": "code",
     "collapsed": true,
     "input": [],
     "language": "python",
     "outputs": []
    }
   ]
  }
 ]
}