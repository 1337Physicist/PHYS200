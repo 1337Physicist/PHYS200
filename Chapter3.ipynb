{
 "metadata": {
  "name": "Chapter3"
 },
 "nbformat": 3,
 "worksheets": [
  {
   "cells": [
    {
     "cell_type": "code",
     "collapsed": false,
     "input": [
      "len('allen')"
     ],
     "language": "python",
     "outputs": [
      {
       "output_type": "pyout",
       "prompt_number": 1,
       "text": [
        "5"
       ]
      }
     ],
     "prompt_number": 1
    },
    {
     "cell_type": "code",
     "collapsed": false,
     "input": [
      "a = \" \"",
      "def right_justify(s):",
      "    print a * (70 - len(s) - 1), s",
      ">>> right_justify('allen')"
     ],
     "language": "python",
     "outputs": [
      {
       "output_type": "stream",
       "stream": "stdout",
       "text": [
        "                                                                 allen"
       ]
      }
     ],
     "prompt_number": 10
    },
    {
     "cell_type": "code",
     "collapsed": false,
     "input": [
      "def do_twice(f,v):",
      "    f(v)",
      "    f(v)",
      "",
      "def print_twice(v):",
      "    print v",
      "    print v",
      "    ",
      "do_twice(print_twice, 'spam')",
      "",
      "print",
      "",
      "def do_four(f,v):",
      "    do_twice(f,v)",
      "    do_twice(f,v)",
      "    ",
      "do_four(print_twice, 'spam')",
      "",
      "print"
     ],
     "language": "python",
     "outputs": [
      {
       "output_type": "stream",
       "stream": "stdout",
       "text": [
        "spam",
        "spam",
        "spam",
        "spam",
        "",
        "spam",
        "spam",
        "spam",
        "spam",
        "spam",
        "spam",
        "spam",
        "spam",
        ""
       ]
      }
     ],
     "prompt_number": 13
    },
    {
     "cell_type": "code",
     "collapsed": true,
     "input": [],
     "language": "python",
     "outputs": []
    }
   ]
  }
 ]
}